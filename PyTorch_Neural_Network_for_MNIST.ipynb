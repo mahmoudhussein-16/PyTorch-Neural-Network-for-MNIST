{
  "nbformat": 4,
  "nbformat_minor": 0,
  "metadata": {
    "colab": {
      "provenance": [],
      "gpuType": "T4"
    },
    "kernelspec": {
      "name": "python3",
      "display_name": "Python 3"
    },
    "language_info": {
      "name": "python"
    },
    "accelerator": "GPU"
  },
  "cells": [
    {
      "cell_type": "markdown",
      "source": [
        "# Import Libraries"
      ],
      "metadata": {
        "id": "ljyvwCTtTOGN"
      }
    },
    {
      "cell_type": "code",
      "execution_count": 1,
      "metadata": {
        "id": "TxDWV2FyK7Es"
      },
      "outputs": [],
      "source": [
        "import matplotlib.pyplot as plt\n",
        "import numpy as np\n",
        "import torch\n",
        "import torch.nn as nn\n",
        "import torch.optim as optim\n",
        "import torch.nn.functional as F\n",
        "from torch.utils.data import DataLoader\n",
        "import torchvision.datasets as datasets\n",
        "import torchvision.transforms as transforms"
      ]
    },
    {
      "cell_type": "markdown",
      "source": [
        "# Define hyperparameters and transformation"
      ],
      "metadata": {
        "id": "dwhKrnRUT4Qr"
      }
    },
    {
      "cell_type": "code",
      "source": [
        "# Define hyperparamerts\n",
        "batch_size = 64\n",
        "epochs = 10\n",
        "learning_rate = 0.01\n",
        "\n",
        "# Define Transformation\n",
        "transform = transforms.Compose([\n",
        "    transforms.ToTensor(),  # convert images to tensor\n",
        "    transforms.Normalize((0.1307,), (0.3081,))  # normalize pixels values to mean and std.\n",
        "])"
      ],
      "metadata": {
        "id": "_ffC1ozpT266"
      },
      "execution_count": 2,
      "outputs": []
    },
    {
      "cell_type": "markdown",
      "source": [
        "# Load Dataset"
      ],
      "metadata": {
        "id": "0F1xq-MJVVyU"
      }
    },
    {
      "cell_type": "code",
      "source": [
        "train_dataset = datasets.MNIST(root='dataset/', train=True, transform=transform, download=True)\n",
        "test_dataset = datasets.MNIST(root='dataset/', train=False, transform=transform, download=True)\n",
        "\n",
        "train_loader = DataLoader(dataset=train_dataset, batch_size=batch_size, shuffle=True)\n",
        "test_loader = DataLoader(dataset=test_dataset, batch_size=batch_size, shuffle=True)"
      ],
      "metadata": {
        "colab": {
          "base_uri": "https://localhost:8080/"
        },
        "id": "lg2Tcpa5VSTR",
        "outputId": "93919827-6ba9-427c-d252-f25e6ac13b94"
      },
      "execution_count": 3,
      "outputs": [
        {
          "output_type": "stream",
          "name": "stdout",
          "text": [
            "Downloading http://yann.lecun.com/exdb/mnist/train-images-idx3-ubyte.gz\n",
            "Failed to download (trying next):\n",
            "<urlopen error [SSL: CERTIFICATE_VERIFY_FAILED] certificate verify failed: certificate has expired (_ssl.c:1007)>\n",
            "\n",
            "Downloading https://ossci-datasets.s3.amazonaws.com/mnist/train-images-idx3-ubyte.gz\n",
            "Downloading https://ossci-datasets.s3.amazonaws.com/mnist/train-images-idx3-ubyte.gz to dataset/MNIST/raw/train-images-idx3-ubyte.gz\n"
          ]
        },
        {
          "output_type": "stream",
          "name": "stderr",
          "text": [
            "100%|██████████| 9912422/9912422 [00:00<00:00, 16465602.13it/s]\n"
          ]
        },
        {
          "output_type": "stream",
          "name": "stdout",
          "text": [
            "Extracting dataset/MNIST/raw/train-images-idx3-ubyte.gz to dataset/MNIST/raw\n",
            "\n",
            "Downloading http://yann.lecun.com/exdb/mnist/train-labels-idx1-ubyte.gz\n",
            "Failed to download (trying next):\n",
            "<urlopen error [SSL: CERTIFICATE_VERIFY_FAILED] certificate verify failed: certificate has expired (_ssl.c:1007)>\n",
            "\n",
            "Downloading https://ossci-datasets.s3.amazonaws.com/mnist/train-labels-idx1-ubyte.gz\n",
            "Downloading https://ossci-datasets.s3.amazonaws.com/mnist/train-labels-idx1-ubyte.gz to dataset/MNIST/raw/train-labels-idx1-ubyte.gz\n"
          ]
        },
        {
          "output_type": "stream",
          "name": "stderr",
          "text": [
            "100%|██████████| 28881/28881 [00:00<00:00, 502358.41it/s]\n"
          ]
        },
        {
          "output_type": "stream",
          "name": "stdout",
          "text": [
            "Extracting dataset/MNIST/raw/train-labels-idx1-ubyte.gz to dataset/MNIST/raw\n",
            "\n",
            "Downloading http://yann.lecun.com/exdb/mnist/t10k-images-idx3-ubyte.gz\n",
            "Failed to download (trying next):\n",
            "<urlopen error [SSL: CERTIFICATE_VERIFY_FAILED] certificate verify failed: certificate has expired (_ssl.c:1007)>\n",
            "\n",
            "Downloading https://ossci-datasets.s3.amazonaws.com/mnist/t10k-images-idx3-ubyte.gz\n",
            "Downloading https://ossci-datasets.s3.amazonaws.com/mnist/t10k-images-idx3-ubyte.gz to dataset/MNIST/raw/t10k-images-idx3-ubyte.gz\n"
          ]
        },
        {
          "output_type": "stream",
          "name": "stderr",
          "text": [
            "100%|██████████| 1648877/1648877 [00:00<00:00, 4516299.94it/s]\n"
          ]
        },
        {
          "output_type": "stream",
          "name": "stdout",
          "text": [
            "Extracting dataset/MNIST/raw/t10k-images-idx3-ubyte.gz to dataset/MNIST/raw\n",
            "\n",
            "Downloading http://yann.lecun.com/exdb/mnist/t10k-labels-idx1-ubyte.gz\n",
            "Failed to download (trying next):\n",
            "<urlopen error [SSL: CERTIFICATE_VERIFY_FAILED] certificate verify failed: certificate has expired (_ssl.c:1007)>\n",
            "\n",
            "Downloading https://ossci-datasets.s3.amazonaws.com/mnist/t10k-labels-idx1-ubyte.gz\n",
            "Downloading https://ossci-datasets.s3.amazonaws.com/mnist/t10k-labels-idx1-ubyte.gz to dataset/MNIST/raw/t10k-labels-idx1-ubyte.gz\n"
          ]
        },
        {
          "output_type": "stream",
          "name": "stderr",
          "text": [
            "100%|██████████| 4542/4542 [00:00<00:00, 2995366.16it/s]"
          ]
        },
        {
          "output_type": "stream",
          "name": "stdout",
          "text": [
            "Extracting dataset/MNIST/raw/t10k-labels-idx1-ubyte.gz to dataset/MNIST/raw\n",
            "\n"
          ]
        },
        {
          "output_type": "stream",
          "name": "stderr",
          "text": [
            "\n"
          ]
        }
      ]
    },
    {
      "cell_type": "markdown",
      "source": [
        "# Define NN"
      ],
      "metadata": {
        "id": "PYIfAKWKWKH5"
      }
    },
    {
      "cell_type": "code",
      "source": [
        "# Define the neural network model\n",
        "class NeuralNetwork(nn.Module):\n",
        "    def __init__(self):\n",
        "        super(NeuralNetwork, self).__init__()\n",
        "        # NN has two fully connected layers\n",
        "        self.fc1 = nn.Linear(784, 500)  # first layer take flattened images as input and outputs 512 features.\n",
        "        self.fc2 = nn.Linear(500, 10)   # second layer take 512 features as inputs and output 10 classes.\n",
        "\n",
        "    def forward(self, x):\n",
        "        x = x.view(-1, 784)  # flatten the image into vector\n",
        "        x = F.relu(self.fc1(x)) # Apply relu activation function for first layer\n",
        "        x = self.fc2(x)  # Apply second layer\n",
        "        return x"
      ],
      "metadata": {
        "id": "aojJGLEsVSRB"
      },
      "execution_count": 4,
      "outputs": []
    },
    {
      "cell_type": "markdown",
      "source": [
        "# Define the loss function and the optimizer"
      ],
      "metadata": {
        "id": "dNSCoCV-YsWm"
      }
    },
    {
      "cell_type": "code",
      "source": [
        "# Create an instance of the model\n",
        "device = torch.device(\"cuda\" if torch.cuda.is_available() else \"cpu\") # Get the device\n",
        "model = NeuralNetwork().to(device)\n",
        "print(model)\n",
        "\n",
        "# Define the loss function and the optimizer\n",
        "criterion = nn.CrossEntropyLoss()\n",
        "optimizer = optim.SGD(model.parameters(), lr=learning_rate)\n",
        "\n",
        "# Define a function to calculate the accuracy of the model\n",
        "def accuracy(outputs, labels):\n",
        "    # The accuracy is the percentage of correct predictions\n",
        "    _, preds = torch.max(outputs, 1) # Get the predicted classes from the output logits\n",
        "    return torch.sum(preds == labels).item() / len(labels)\n",
        "\n"
      ],
      "metadata": {
        "colab": {
          "base_uri": "https://localhost:8080/"
        },
        "id": "I-_bixbNYuHx",
        "outputId": "6863d196-beee-4976-f8d7-a567fe4f146a"
      },
      "execution_count": 12,
      "outputs": [
        {
          "output_type": "stream",
          "name": "stdout",
          "text": [
            "NeuralNetwork(\n",
            "  (fc1): Linear(in_features=784, out_features=500, bias=True)\n",
            "  (fc2): Linear(in_features=500, out_features=10, bias=True)\n",
            ")\n"
          ]
        }
      ]
    },
    {
      "cell_type": "markdown",
      "source": [
        "# Define the Training loop"
      ],
      "metadata": {
        "id": "pVYnazrIZ_3V"
      }
    },
    {
      "cell_type": "code",
      "source": [
        "# Define train loop\n",
        "def train_loop(model, device, criterion, optimizer, train_loader, epochs):\n",
        "  model.train()\n",
        "  running_loss = 0\n",
        "  running_acc = 0\n",
        "\n",
        "  # loop over batches of data\n",
        "  for i, (inputs, labels) in enumerate(train_loader):\n",
        "    inputs = inputs.to(device)\n",
        "    labels = labels.to(device)\n",
        "    # zero the parameter gradients\n",
        "    optimizer.zero_grad()\n",
        "\n",
        "    # Forward pass\n",
        "    outputs = model(inputs)\n",
        "    loss = criterion(outputs, labels)\n",
        "\n",
        "    # Backward pass and optimization\n",
        "    loss.backward()\n",
        "    optimizer.step() # update paramters\n",
        "    running_loss += loss.item() # Accumulate the loss\n",
        "    running_acc += accuracy(outputs, labels) # Accumulate the accuracy\n",
        "    if (i + 1) % 200 == 0: # Print every 200 batches\n",
        "          print(f'Epoch {epoch}, Batch {i + 1}, Loss: {running_loss / 200:.4f}, Accuracy: {running_acc / 200:.4f}')\n",
        "          running_loss = 0.0\n",
        "          running_acc = 0.0\n",
        ""
      ],
      "metadata": {
        "id": "ibXRIDzlZ6N5"
      },
      "execution_count": 15,
      "outputs": []
    },
    {
      "cell_type": "markdown",
      "source": [
        "# Define Testing loop"
      ],
      "metadata": {
        "id": "Q8T7AvgVbfGZ"
      }
    },
    {
      "cell_type": "code",
      "source": [
        "def test_loop(model, device, criterion, test_loader):\n",
        "  model.eval()\n",
        "  test_loss = 0\n",
        "  test_acc = 0\n",
        "  with torch.no_grad():\n",
        "    for inputs, labels in test_loader:\n",
        "      inputs = inputs.to(device)\n",
        "      labels = labels.to(device)\n",
        "\n",
        "      # Forward Pass\n",
        "      outputs = model(inputs)\n",
        "      loss = criterion(outputs, labels)\n",
        "      test_loss += loss.item()\n",
        "      test_acc += accuracy(outputs, labels)\n",
        "      # Print the average loss and accuracy\n",
        "    print(f'Test Loss: {test_loss / len(test_loader):.4f}, Test Accuracy: {test_acc / len(test_loader):.4f}')"
      ],
      "metadata": {
        "id": "iXd0fHnSbbtq"
      },
      "execution_count": 16,
      "outputs": []
    },
    {
      "cell_type": "markdown",
      "source": [
        "# Train and Test model"
      ],
      "metadata": {
        "id": "p1rMzpb7cNCF"
      }
    },
    {
      "cell_type": "code",
      "source": [
        "for epoch in range(epochs):\n",
        "  train_loop(model, device, criterion, optimizer, train_loader, epoch)\n",
        "  test_loop(model, device, criterion, test_loader)\n",
        "\n",
        "# Visualize some sample images and predictions\n",
        "samples, labels = next(iter(test_loader)) # Get a batch of test data\n",
        "samples = samples.to(device) # Move the samples to the device\n",
        "outputs = model(samples) # Get the output logits from the model\n",
        "_, preds = torch.max(outputs, 1) # Get the predicted classes from the output logits\n",
        "samples = samples.cpu().numpy() # Move the samples back to CPU and convert to numpy array\n",
        "fig, axes = plt.subplots(3, 3, figsize=(8, 8)) # Create a 3x3 grid of subplots\n",
        "for i, ax in enumerate(axes.ravel()):\n",
        "    ax.imshow(samples[i].squeeze(), cmap='gray') # Plot the image\n",
        "    ax.set_title(f'Label: {labels[i]}, Prediction: {preds[i]}') # Set the title\n",
        "    ax.axis('off') # Hide the axes\n",
        "plt.tight_layout() # Adjust the spacing\n",
        "plt.show() # Show the plot"
      ],
      "metadata": {
        "colab": {
          "base_uri": "https://localhost:8080/",
          "height": 1000
        },
        "id": "r3vKflzbbdX5",
        "outputId": "5c6e3c1a-4906-47fd-c875-a49e7c4ee8d2"
      },
      "execution_count": 17,
      "outputs": [
        {
          "output_type": "stream",
          "name": "stdout",
          "text": [
            "Epoch 0, Batch 200, Loss: 1.1233, Accuracy: 0.7498\n",
            "Epoch 0, Batch 400, Loss: 0.4926, Accuracy: 0.8761\n",
            "Epoch 0, Batch 600, Loss: 0.3955, Accuracy: 0.8910\n",
            "Epoch 0, Batch 800, Loss: 0.3599, Accuracy: 0.9005\n",
            "Test Loss: 0.3121, Test Accuracy: 0.9123\n",
            "Epoch 1, Batch 200, Loss: 0.3188, Accuracy: 0.9086\n",
            "Epoch 1, Batch 400, Loss: 0.2996, Accuracy: 0.9120\n",
            "Epoch 1, Batch 600, Loss: 0.2755, Accuracy: 0.9216\n",
            "Epoch 1, Batch 800, Loss: 0.2811, Accuracy: 0.9209\n",
            "Test Loss: 0.2539, Test Accuracy: 0.9260\n",
            "Epoch 2, Batch 200, Loss: 0.2501, Accuracy: 0.9312\n",
            "Epoch 2, Batch 400, Loss: 0.2467, Accuracy: 0.9302\n",
            "Epoch 2, Batch 600, Loss: 0.2413, Accuracy: 0.9308\n",
            "Epoch 2, Batch 800, Loss: 0.2333, Accuracy: 0.9338\n",
            "Test Loss: 0.2184, Test Accuracy: 0.9372\n",
            "Epoch 3, Batch 200, Loss: 0.2141, Accuracy: 0.9401\n",
            "Epoch 3, Batch 400, Loss: 0.2112, Accuracy: 0.9411\n",
            "Epoch 3, Batch 600, Loss: 0.2114, Accuracy: 0.9398\n",
            "Epoch 3, Batch 800, Loss: 0.2011, Accuracy: 0.9432\n",
            "Test Loss: 0.1925, Test Accuracy: 0.9442\n",
            "Epoch 4, Batch 200, Loss: 0.1916, Accuracy: 0.9472\n",
            "Epoch 4, Batch 400, Loss: 0.1871, Accuracy: 0.9471\n",
            "Epoch 4, Batch 600, Loss: 0.1817, Accuracy: 0.9484\n",
            "Epoch 4, Batch 800, Loss: 0.1732, Accuracy: 0.9513\n",
            "Test Loss: 0.1711, Test Accuracy: 0.9503\n",
            "Epoch 5, Batch 200, Loss: 0.1687, Accuracy: 0.9541\n",
            "Epoch 5, Batch 400, Loss: 0.1692, Accuracy: 0.9520\n",
            "Epoch 5, Batch 600, Loss: 0.1563, Accuracy: 0.9545\n",
            "Epoch 5, Batch 800, Loss: 0.1562, Accuracy: 0.9565\n",
            "Test Loss: 0.1571, Test Accuracy: 0.9546\n",
            "Epoch 6, Batch 200, Loss: 0.1507, Accuracy: 0.9575\n",
            "Epoch 6, Batch 400, Loss: 0.1500, Accuracy: 0.9563\n",
            "Epoch 6, Batch 600, Loss: 0.1475, Accuracy: 0.9606\n",
            "Epoch 6, Batch 800, Loss: 0.1438, Accuracy: 0.9606\n",
            "Test Loss: 0.1427, Test Accuracy: 0.9589\n",
            "Epoch 7, Batch 200, Loss: 0.1349, Accuracy: 0.9628\n",
            "Epoch 7, Batch 400, Loss: 0.1370, Accuracy: 0.9619\n",
            "Epoch 7, Batch 600, Loss: 0.1295, Accuracy: 0.9626\n",
            "Epoch 7, Batch 800, Loss: 0.1307, Accuracy: 0.9649\n",
            "Test Loss: 0.1326, Test Accuracy: 0.9617\n",
            "Epoch 8, Batch 200, Loss: 0.1170, Accuracy: 0.9681\n",
            "Epoch 8, Batch 400, Loss: 0.1255, Accuracy: 0.9648\n",
            "Epoch 8, Batch 600, Loss: 0.1241, Accuracy: 0.9663\n",
            "Epoch 8, Batch 800, Loss: 0.1229, Accuracy: 0.9656\n",
            "Test Loss: 0.1252, Test Accuracy: 0.9643\n",
            "Epoch 9, Batch 200, Loss: 0.1190, Accuracy: 0.9666\n",
            "Epoch 9, Batch 400, Loss: 0.1170, Accuracy: 0.9666\n",
            "Epoch 9, Batch 600, Loss: 0.1080, Accuracy: 0.9715\n",
            "Epoch 9, Batch 800, Loss: 0.1102, Accuracy: 0.9700\n",
            "Test Loss: 0.1180, Test Accuracy: 0.9664\n"
          ]
        },
        {
          "output_type": "display_data",
          "data": {
            "text/plain": [
              "<Figure size 800x800 with 9 Axes>"
            ],
            "image/png": "[encoded data removed]"
          },
          "metadata": {}
        }
      ]
    }
  ]
}